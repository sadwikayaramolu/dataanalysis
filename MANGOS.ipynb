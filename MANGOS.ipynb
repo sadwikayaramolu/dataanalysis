{
  "nbformat": 4,
  "nbformat_minor": 0,
  "metadata": {
    "colab": {
      "provenance": []
    },
    "kernelspec": {
      "name": "python3",
      "display_name": "Python 3"
    },
    "language_info": {
      "name": "python"
    }
  },
  "cells": [
    {
      "cell_type": "code",
      "execution_count": null,
      "metadata": {
        "id": "F15FFOi113G3"
      },
      "outputs": [],
      "source": [
        "import tensorflow as tf\n",
        "from tensorflow import keras\n",
        "from tensorflow.keras import layers\n",
        "from tensorflow.keras.preprocessing.image import ImageDataGenerator\n",
        "#define image size and batch size\n",
        "IMG_SIZE=224\n",
        "BATCH_SIZE=32"
      ]
    },
    {
      "cell_type": "code",
      "source": [
        "train_datagen=ImageDataGenerator(rescale=1./255,validation_split=0.2)\n",
        "train_generator=train_datagen.flow_from_directory('/content/drive/MyDrive/train',target_size=(IMG_SIZE,IMG_SIZE),batch_size=BATCH_SIZE,class_mode='binary',subset='training')"
      ],
      "metadata": {
        "colab": {
          "base_uri": "https://localhost:8080/"
        },
        "id": "NqZY19GT3h55",
        "outputId": "ab6501d0-e925-4a83-bda6-89ba0cb7c52e"
      },
      "execution_count": null,
      "outputs": [
        {
          "output_type": "stream",
          "name": "stdout",
          "text": [
            "Found 764 images belonging to 2 classes.\n"
          ]
        }
      ]
    },
    {
      "cell_type": "code",
      "source": [
        "val_generator=train_datagen.flow_from_directory('/content/drive/MyDrive/train',\n",
        "    target_size=(IMG_SIZE,IMG_SIZE),\n",
        "    batch_size=BATCH_SIZE,\n",
        "    class_mode='binary',\n",
        "    subset='validation'\n",
        ")"
      ],
      "metadata": {
        "colab": {
          "base_uri": "https://localhost:8080/"
        },
        "id": "ucBpn4Y-9EXN",
        "outputId": "adfd4fa6-5669-494d-a33e-736adb852dd8"
      },
      "execution_count": null,
      "outputs": [
        {
          "output_type": "stream",
          "name": "stdout",
          "text": [
            "Found 190 images belonging to 2 classes.\n"
          ]
        }
      ]
    },
    {
      "cell_type": "code",
      "source": [
        "test_datagen=ImageDataGenerator(rescale=1./255)\n",
        "test_generator=test_datagen.flow_from_directory('/content/drive/MyDrive/test',\n",
        "target_size=(IMG_SIZE,IMG_SIZE),\n",
        "batch_size=BATCH_SIZE,\n",
        "class_mode='binary',\n",
        ")"
      ],
      "metadata": {
        "colab": {
          "base_uri": "https://localhost:8080/"
        },
        "id": "6fDCp3Qg9iIz",
        "outputId": "104a01e3-4f40-41ee-f547-7b6131fa051a"
      },
      "execution_count": null,
      "outputs": [
        {
          "output_type": "stream",
          "name": "stdout",
          "text": [
            "Found 21 images belonging to 1 classes.\n"
          ]
        }
      ]
    },
    {
      "cell_type": "code",
      "source": [
        "# Define the model\n",
        "model = keras.Sequential([\n",
        "    layers.Conv2D(32, (3, 3), activation='relu', input_shape=(IMG_SIZE, IMG_SIZE, 3)),\n",
        "    layers.MaxPooling2D((2, 2)),\n",
        "    layers.Conv2D(64, (3, 3), activation='relu'),\n",
        "    layers.MaxPooling2D((2, 2)),\n",
        "    layers.Conv2D(128, (3, 3), activation='relu'),\n",
        "    layers.MaxPooling2D((2, 2)),\n",
        "    layers.Flatten(),\n",
        "    layers.Dense(128, activation='relu'),\n",
        "    layers.Dense(1, activation='sigmoid')\n",
        "])\n"
      ],
      "metadata": {
        "id": "70m4yyQK_Txa"
      },
      "execution_count": null,
      "outputs": []
    },
    {
      "cell_type": "code",
      "source": [
        "model.compile(optimizer='adam', loss='binary_crossentropy', metrics=['accuracy'])\n",
        "\n",
        "history = model.fit(train_generator,validation_data=val_generator,epochs=5)\n",
        "\n",
        "model.save(\"Model.h5\",\"label.txt\")\n"
      ],
      "metadata": {
        "colab": {
          "base_uri": "https://localhost:8080/"
        },
        "id": "0oBtNdyB_fT7",
        "outputId": "9744db24-e608-44ee-8dde-f12d14bbc6ca"
      },
      "execution_count": null,
      "outputs": [
        {
          "output_type": "stream",
          "name": "stdout",
          "text": [
            "Epoch 1/5\n",
            "24/24 [==============================] - 94s 4s/step - loss: 0.3927 - accuracy: 0.8364 - val_loss: 0.2012 - val_accuracy: 0.9579\n",
            "Epoch 2/5\n",
            "24/24 [==============================] - 85s 3s/step - loss: 0.1733 - accuracy: 0.9542 - val_loss: 0.2018 - val_accuracy: 0.9579\n",
            "Epoch 3/5\n",
            "24/24 [==============================] - 92s 4s/step - loss: 0.0752 - accuracy: 0.9712 - val_loss: 0.1306 - val_accuracy: 0.9632\n",
            "Epoch 4/5\n",
            "24/24 [==============================] - 87s 4s/step - loss: 0.0438 - accuracy: 0.9882 - val_loss: 0.2243 - val_accuracy: 0.9632\n",
            "Epoch 5/5\n",
            "24/24 [==============================] - 86s 4s/step - loss: 0.0339 - accuracy: 0.9882 - val_loss: 0.1551 - val_accuracy: 0.9316\n"
          ]
        },
        {
          "output_type": "stream",
          "name": "stderr",
          "text": [
            "/usr/local/lib/python3.10/dist-packages/keras/src/engine/training.py:3103: UserWarning: You are saving your model as an HDF5 file via `model.save()`. This file format is considered legacy. We recommend using instead the native Keras format, e.g. `model.save('my_model.keras')`.\n",
            "  saving_api.save_model(\n"
          ]
        }
      ]
    },
    {
      "cell_type": "code",
      "source": [
        "from keras.models import load_model  # TensorFlow is required for Keras to work\n",
        "from PIL import Image, ImageOps  # Install pillow instead of PIL\n",
        "from tensorflow.keras.preprocessing import image\n",
        "import numpy as np\n",
        "#load the model\n",
        "model = load_model('/content/Model.h5')\n",
        "#Load andd preprocessor\n",
        "test_image_path='/content/drive/MyDrive/train/Ripe/GUTI_140_A.jpg'\n",
        "img=image.load_img(test_image_path,target_size=(224,224))\n",
        "img_array=image.img_to_array(img)\n",
        "img_array=np.expand_dims(img_array,axis=0)#Add batch dimension\n",
        "img_array/=255. #Normalize thepixel values\n",
        "\n",
        "#Make prediction\n",
        "prediction=model.predict(img_array)\n",
        "\n",
        "#print the prediction\n",
        "if prediction < 0.5:\n",
        "  print(\"Prediction:rip is present (Probability:\",prediction[0][0],\")\")\n",
        "else:\n",
        "  print(\"Prediction:unrip present (Probability:\",prediction[0][0],\")\")"
      ],
      "metadata": {
        "colab": {
          "base_uri": "https://localhost:8080/"
        },
        "id": "Y3DBaFEkHsgN",
        "outputId": "a12b59cf-5953-46a6-ced4-c573eefab2ff"
      },
      "execution_count": 16,
      "outputs": [
        {
          "output_type": "stream",
          "name": "stdout",
          "text": [
            "1/1 [==============================] - 0s 105ms/step\n",
            "Prediction:rip is present (Probability: 0.0303443 )\n"
          ]
        }
      ]
    },
    {
      "cell_type": "code",
      "source": [],
      "metadata": {
        "id": "0nsBGwPUjfov"
      },
      "execution_count": null,
      "outputs": []
    }
  ]
}